{
  "nbformat": 4,
  "nbformat_minor": 0,
  "metadata": {
    "colab": {
      "provenance": []
    },
    "kernelspec": {
      "name": "python3",
      "display_name": "Python 3"
    },
    "language_info": {
      "name": "python"
    }
  },
  "cells": [
    {
      "cell_type": "code",
      "execution_count": null,
      "metadata": {
        "id": "ahhH3LsvDoUe"
      },
      "outputs": [],
      "source": []
    },
    {
      "cell_type": "code",
      "source": [
        "!gcloud auth login"
      ],
      "metadata": {
        "colab": {
          "base_uri": "https://localhost:8080/"
        },
        "id": "vdw2TrTYD0rl",
        "outputId": "b4c0d9d8-e233-4245-d5d2-6273d74c71e9"
      },
      "execution_count": null,
      "outputs": [
        {
          "output_type": "stream",
          "name": "stdout",
          "text": [
            "Go to the following link in your browser, and complete the sign-in prompts:\n",
            "\n",
            "    https://accounts.google.com/o/oauth2/auth?response_type=code&client_id=32555940559.apps.googleusercontent.com&redirect_uri=https%3A%2F%2Fsdk.cloud.google.com%2Fauthcode.html&scope=openid+https%3A%2F%2Fwww.googleapis.com%2Fauth%2Fuserinfo.email+https%3A%2F%2Fwww.googleapis.com%2Fauth%2Fcloud-platform+https%3A%2F%2Fwww.googleapis.com%2Fauth%2Fappengine.admin+https%3A%2F%2Fwww.googleapis.com%2Fauth%2Fsqlservice.login+https%3A%2F%2Fwww.googleapis.com%2Fauth%2Fcompute+https%3A%2F%2Fwww.googleapis.com%2Fauth%2Faccounts.reauth&state=awUQqYiancMazoGswV2HQUrBdhAzhS&prompt=consent&token_usage=remote&access_type=offline&code_challenge=3YgX8L3263GEQ2Hhz3LMzbkVyHbyAmTm4NgK6Z13cFI&code_challenge_method=S256\n",
            "\n",
            "Once finished, enter the verification code provided in your browser: 4/0Ab_5qlko3lhtjXgTUQr-PxWbB7GjpgeiS4bHY7gxvNu989Kx9_nC_v83zHx9fH4Wm0XJ8w\n",
            "\n",
            "You are now logged in as [zhuziningning@gmail.com].\n",
            "Your current project is [None].  You can change this setting by running:\n",
            "  $ gcloud config set project PROJECT_ID\n"
          ]
        }
      ]
    },
    {
      "cell_type": "code",
      "source": [
        "!gcloud config set project tpu-inference-test-0428"
      ],
      "metadata": {
        "colab": {
          "base_uri": "https://localhost:8080/"
        },
        "id": "rC4976IMGTTm",
        "outputId": "4ced24fe-e7fb-475a-ee3d-a589d26ff9f6"
      },
      "execution_count": null,
      "outputs": [
        {
          "output_type": "stream",
          "name": "stdout",
          "text": [
            "Updated property [core/project].\n"
          ]
        }
      ]
    },
    {
      "cell_type": "markdown",
      "source": [
        "Need to be very careful when selecting the resources.  \n",
        "- Different zones have different accelerator types (aka TPU types). Zone and corresponding TPU type doc: https://cloud.google.com/tpu/docs/regions-zones\n",
        "- Each TPU type corresponds to a different TPU software (aka VM image)version. Doc: https://cloud.google.com/tpu/docs/runtimes#tpu-vm-versions  \n",
        "- The TPU instance creation takes ~5 minutes."
      ],
      "metadata": {
        "id": "LBG1JBWEHl7L"
      }
    },
    {
      "cell_type": "code",
      "source": [
        "!gcloud compute tpus tpu-vm create test-tpu-name \\\n",
        "--zone=us-central1-a \\\n",
        "--accelerator-type=v5litepod-1 \\\n",
        "--version=v2-alpha-tpuv5-lite\n"
      ],
      "metadata": {
        "colab": {
          "base_uri": "https://localhost:8080/"
        },
        "id": "76MQlKvnGyCk",
        "outputId": "277084da-7cae-4a23-a6d3-b85531cd029c"
      },
      "execution_count": null,
      "outputs": [
        {
          "output_type": "stream",
          "name": "stdout",
          "text": [
            "Create request issued for: [test-tpu-name]\n",
            "Created tpu [test-tpu-name].\n"
          ]
        }
      ]
    },
    {
      "cell_type": "markdown",
      "source": [
        "Now you can launch scripts on TPU"
      ],
      "metadata": {
        "id": "6wdRjMc1K9Rn"
      }
    },
    {
      "cell_type": "code",
      "source": [
        "!gcloud compute tpus tpu-vm ssh test-tpu-name --zone=us-central1-a \\\n",
        "--command='echo \"Hello World!\"'"
      ],
      "metadata": {
        "colab": {
          "base_uri": "https://localhost:8080/"
        },
        "id": "6cJEYBOkHxHj",
        "outputId": "08a69f94-8ad5-4bf8-927c-26ba4ed9dbab"
      },
      "execution_count": null,
      "outputs": [
        {
          "output_type": "stream",
          "name": "stdout",
          "text": [
            "Using ssh batch size of 1. Attempting to SSH into 1 nodes with a total of 1 workers.\n",
            "SSH: Attempting to connect to worker 0...\n",
            "Hello World!\n"
          ]
        }
      ]
    },
    {
      "cell_type": "markdown",
      "source": [
        "Alternatively, you can click \"ssh\" into the TPU instance from the Google Cloud Platform console."
      ],
      "metadata": {
        "id": "6BmC_6WiNb0r"
      }
    },
    {
      "cell_type": "code",
      "source": [
        "# Remember to delete this TPU at the end of your session\n",
        "!gcloud compute tpus tpu-vm delete test-tpu-name --zone=us-central1-a --quiet"
      ],
      "metadata": {
        "colab": {
          "base_uri": "https://localhost:8080/"
        },
        "id": "r6NYDOceKgJc",
        "outputId": "c737cd9a-70d8-4599-cd1f-0ed32023d2ba"
      },
      "execution_count": null,
      "outputs": [
        {
          "output_type": "stream",
          "name": "stdout",
          "text": [
            "Delete request issued for: [test-tpu-name]\n",
            "Deleted tpu [test-tpu-name].\n"
          ]
        }
      ]
    },
    {
      "cell_type": "code",
      "source": [],
      "metadata": {
        "id": "KIZ_9sggOcKy"
      },
      "execution_count": null,
      "outputs": []
    }
  ]
}